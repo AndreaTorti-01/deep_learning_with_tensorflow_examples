{
 "cells": [
  {
   "cell_type": "code",
   "execution_count": null,
   "metadata": {},
   "outputs": [],
   "source": [
    "import tensorflow as tf\n",
    "\n",
    "mnist = tf.keras.datasets.mnist # 28x28 images of hand-written digits 0-9\n",
    "\n",
    "(x_train, y_train),(x_test, y_test) = mnist.load_data() # unpacks images to x_train/x_test and labels to y_train/y_test\n",
    "\n",
    "x_train = tf.keras.utils.normalize(x_train, axis=1) # scales data between 0 and 1\n",
    "x_test = tf.keras.utils.normalize(x_test, axis=1)\n",
    "\n",
    "model = tf.keras.models.Sequential() # a basic feed-forward model\n",
    "model.add(tf.keras.layers.Flatten()) # takes our 28x28 and makes it 1x784\n",
    "model.add(tf.keras.layers.Dense(128, activation=tf.nn.relu)) # a simple fully-connected layer, 128 units, relu activation\n",
    "model.add(tf.keras.layers.Dense(128, activation=tf.nn.relu)) # a simple fully-connected layer, 128 units, relu activation\n",
    "model.add(tf.keras.layers.Dense(10, activation=tf.nn.softmax)) # a simple fully-connected layer, 10 units, softmax activation\n",
    "\n",
    "model.compile(optimizer='adam', # Good default optimizer to start with, https://keras.io/optimizers/\n",
    "                loss='sparse_categorical_crossentropy', # how will we calculate our \"error.\" Neural network aims to minimize loss.\n",
    "                metrics=['accuracy']) # what to track\n",
    "model.fit(x_train, y_train, epochs=5, validation_data=(x_test, y_test)) # train the model and validate on test data set"
   ]
  },
  {
   "cell_type": "code",
   "execution_count": null,
   "metadata": {},
   "outputs": [],
   "source": [
    "model.save('num_reader.model') # save model for later use"
   ]
  },
  {
   "cell_type": "code",
   "execution_count": null,
   "metadata": {},
   "outputs": [],
   "source": [
    "new_model = tf.keras.models.load_model('num_reader.model') # load model"
   ]
  },
  {
   "cell_type": "code",
   "execution_count": null,
   "metadata": {},
   "outputs": [],
   "source": [
    "import numpy as np\n",
    "import matplotlib.pyplot as plt\n",
    "predictions = new_model.predict([x_test]) # use the network to make predictions # type: ignore\n",
    "print(np.argmax(predictions[0])) # show prediction for first image\n",
    "plt.imshow(x_test[0], cmap = plt.cm.binary) # type: ignore"
   ]
  }
 ],
 "metadata": {
  "kernelspec": {
   "display_name": "env",
   "language": "python",
   "name": "python3"
  },
  "language_info": {
   "codemirror_mode": {
    "name": "ipython",
    "version": 3
   },
   "file_extension": ".py",
   "mimetype": "text/x-python",
   "name": "python",
   "nbconvert_exporter": "python",
   "pygments_lexer": "ipython3",
   "version": "3.10.6"
  },
  "orig_nbformat": 4,
  "vscode": {
   "interpreter": {
    "hash": "67e8c8428073da19c78e2aa2dbca428822d93d652bae4c7659cdcd3757709d31"
   }
  }
 },
 "nbformat": 4,
 "nbformat_minor": 2
}
