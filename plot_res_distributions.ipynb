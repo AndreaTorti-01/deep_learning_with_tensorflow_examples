{
 "cells": [
  {
   "cell_type": "code",
   "execution_count": null,
   "metadata": {},
   "outputs": [],
   "source": [
    "import os\n",
    "from PIL import Image\n",
    "import matplotlib.pyplot as plt\n",
    "\n",
    "DATADIR = \"PetImages\"\n",
    "CATEGORIES = [\"Dog\", \"Cat\"]\n",
    "\n",
    "img_path = []\n",
    "\n",
    "for category in CATEGORIES:  # do dogs and cats\n",
    "    path = os.path.join(DATADIR,category)  # create path to dogs and cats\n",
    "    for img in os.listdir(path):  # iterate over each image per dogs and cats\n",
    "        img_path.append(os.path.join(path,img))  # add it to the list of all images"
   ]
  },
  {
   "cell_type": "code",
   "execution_count": null,
   "metadata": {},
   "outputs": [],
   "source": [
    "\n",
    "widths, heights = [], []\n",
    "for img in img_path:\n",
    "    try:\n",
    "        width, height = Image.open(img).size\n",
    "        widths.append(width)\n",
    "        heights.append(height)\n",
    "    except:\n",
    "        print(\"Error: \" + img)"
   ]
  },
  {
   "cell_type": "code",
   "execution_count": null,
   "metadata": {},
   "outputs": [],
   "source": [
    "plt.hist(widths, bins=20)\n",
    "plt.title(\"Widths\")\n",
    "plt.show()\n",
    "plt.hist(heights, bins=200)\n",
    "plt.title(\"Heights\")\n",
    "plt.show()"
   ]
  }
 ],
 "metadata": {
  "kernelspec": {
   "display_name": "env",
   "language": "python",
   "name": "python3"
  },
  "language_info": {
   "codemirror_mode": {
    "name": "ipython",
    "version": 3
   },
   "file_extension": ".py",
   "mimetype": "text/x-python",
   "name": "python",
   "nbconvert_exporter": "python",
   "pygments_lexer": "ipython3",
   "version": "3.10.6"
  },
  "orig_nbformat": 4,
  "vscode": {
   "interpreter": {
    "hash": "67e8c8428073da19c78e2aa2dbca428822d93d652bae4c7659cdcd3757709d31"
   }
  }
 },
 "nbformat": 4,
 "nbformat_minor": 2
}
